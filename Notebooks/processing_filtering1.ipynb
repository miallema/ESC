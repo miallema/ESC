{
 "cells": [
  {
   "cell_type": "code",
   "execution_count": 8,
   "metadata": {},
   "outputs": [],
   "source": [
    "import pandas as pd\n",
    "pd.options.mode.chained_assignment = None"
   ]
  },
  {
   "cell_type": "markdown",
   "metadata": {},
   "source": [
    "s3.amazonaws.com/alexa-static/top-1m.csv.zip"
   ]
  },
  {
   "cell_type": "code",
   "execution_count": 9,
   "metadata": {},
   "outputs": [],
   "source": [
    "most_popular_websites = list(pd.read_csv('../Data/top-1m.csv',header=None).loc[:,1].values)\n",
    "most_popular_websites = [x.split('.')[0] for x in most_popular_websites]\n",
    "most_popular_websites = [x for x in most_popular_websites if len(x) >= 5]\n",
    "most_popular_websites = most_popular_websites[:1000]\n",
    "most_popular_websites = '|'.join(most_popular_websites)"
   ]
  },
  {
   "cell_type": "code",
   "execution_count": 10,
   "metadata": {},
   "outputs": [
    {
     "data": {
      "text/plain": [
       "14636"
      ]
     },
     "execution_count": 10,
     "metadata": {},
     "output_type": "execute_result"
    }
   ],
   "source": [
    "drug_websites = pd.read_csv('../Data/unique_displayLink.csv', index_col=['displayLink'])\n",
    "len(drug_websites)"
   ]
  },
  {
   "cell_type": "code",
   "execution_count": 11,
   "metadata": {},
   "outputs": [
    {
     "data": {
      "text/plain": [
       "12135"
      ]
     },
     "execution_count": 11,
     "metadata": {},
     "output_type": "execute_result"
    }
   ],
   "source": [
    "drug_websites_filtered = drug_websites[~drug_websites.index.str.contains(most_popular_websites)]\n",
    "len(drug_websites_filtered)"
   ]
  },
  {
   "cell_type": "code",
   "execution_count": 12,
   "metadata": {},
   "outputs": [],
   "source": [
    "drug_websites_filtered['args_split'] = drug_websites_filtered.args.str.split('+')\n",
    "args = drug_websites_filtered['args_split'].apply(pd.Series)\n",
    "drug_websites_filtered['first'] = args[0]\n",
    "drug_websites_filtered['drug'] = args[1]\n",
    "drug_websites_filtered = drug_websites_filtered.drop(['args','args_split'],axis=1)"
   ]
  },
  {
   "cell_type": "code",
   "execution_count": 13,
   "metadata": {},
   "outputs": [
    {
     "data": {
      "text/html": [
       "<div>\n",
       "<style scoped>\n",
       "    .dataframe tbody tr th:only-of-type {\n",
       "        vertical-align: middle;\n",
       "    }\n",
       "\n",
       "    .dataframe tbody tr th {\n",
       "        vertical-align: top;\n",
       "    }\n",
       "\n",
       "    .dataframe thead th {\n",
       "        text-align: right;\n",
       "    }\n",
       "</style>\n",
       "<table border=\"1\" class=\"dataframe\">\n",
       "  <thead>\n",
       "    <tr style=\"text-align: right;\">\n",
       "      <th></th>\n",
       "      <th>snippet</th>\n",
       "      <th>count</th>\n",
       "      <th>first</th>\n",
       "      <th>drug</th>\n",
       "    </tr>\n",
       "    <tr>\n",
       "      <th>displayLink</th>\n",
       "      <th></th>\n",
       "      <th></th>\n",
       "      <th></th>\n",
       "      <th></th>\n",
       "    </tr>\n",
       "  </thead>\n",
       "  <tbody>\n",
       "    <tr>\n",
       "      <th>drugs-center.biz</th>\n",
       "      <td>Buy drugs online from Drugs-Center, the bigges...</td>\n",
       "      <td>6316</td>\n",
       "      <td>purchase</td>\n",
       "      <td>cocaine</td>\n",
       "    </tr>\n",
       "    <tr>\n",
       "      <th>prettycheaphighs.com</th>\n",
       "      <td>Purchase Molly XTC Pills online | Purchase Mol...</td>\n",
       "      <td>3018</td>\n",
       "      <td>purchase</td>\n",
       "      <td>molly</td>\n",
       "    </tr>\n",
       "    <tr>\n",
       "      <th>dopepartypills.com</th>\n",
       "      <td>buy ecstasy drugs online buy molly online buy ...</td>\n",
       "      <td>2964</td>\n",
       "      <td>swiss</td>\n",
       "      <td>mdma</td>\n",
       "    </tr>\n",
       "    <tr>\n",
       "      <th>www.independent.co.uk</th>\n",
       "      <td>Jun 16, 2018 ... Switzerland, on the other han...</td>\n",
       "      <td>2853</td>\n",
       "      <td>swiss</td>\n",
       "      <td>molly</td>\n",
       "    </tr>\n",
       "    <tr>\n",
       "      <th>www.highsnobiety.com</th>\n",
       "      <td>Mar 24, 2017 ... We take a look at how interne...</td>\n",
       "      <td>2698</td>\n",
       "      <td>swiss</td>\n",
       "      <td>mdma</td>\n",
       "    </tr>\n",
       "  </tbody>\n",
       "</table>\n",
       "</div>"
      ],
      "text/plain": [
       "                                                                 snippet  \\\n",
       "displayLink                                                                \n",
       "drugs-center.biz       Buy drugs online from Drugs-Center, the bigges...   \n",
       "prettycheaphighs.com   Purchase Molly XTC Pills online | Purchase Mol...   \n",
       "dopepartypills.com     buy ecstasy drugs online buy molly online buy ...   \n",
       "www.independent.co.uk  Jun 16, 2018 ... Switzerland, on the other han...   \n",
       "www.highsnobiety.com   Mar 24, 2017 ... We take a look at how interne...   \n",
       "\n",
       "                       count     first     drug  \n",
       "displayLink                                      \n",
       "drugs-center.biz        6316  purchase  cocaine  \n",
       "prettycheaphighs.com    3018  purchase    molly  \n",
       "dopepartypills.com      2964     swiss     mdma  \n",
       "www.independent.co.uk   2853     swiss    molly  \n",
       "www.highsnobiety.com    2698     swiss     mdma  "
      ]
     },
     "execution_count": 13,
     "metadata": {},
     "output_type": "execute_result"
    }
   ],
   "source": [
    "drug_websites_filtered.head()"
   ]
  },
  {
   "cell_type": "code",
   "execution_count": 15,
   "metadata": {},
   "outputs": [],
   "source": [
    "drug_websites_filtered.to_csv('../Data/drug_websites_filtered1.csv')"
   ]
  },
  {
   "cell_type": "code",
   "execution_count": null,
   "metadata": {},
   "outputs": [],
   "source": []
  }
 ],
 "metadata": {
  "kernelspec": {
   "display_name": "Python 3",
   "language": "python",
   "name": "python3"
  },
  "language_info": {
   "codemirror_mode": {
    "name": "ipython",
    "version": 3
   },
   "file_extension": ".py",
   "mimetype": "text/x-python",
   "name": "python",
   "nbconvert_exporter": "python",
   "pygments_lexer": "ipython3",
   "version": "3.7.2"
  }
 },
 "nbformat": 4,
 "nbformat_minor": 2
}
