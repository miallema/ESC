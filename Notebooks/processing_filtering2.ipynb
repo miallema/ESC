{
 "cells": [
  {
   "cell_type": "code",
   "execution_count": 3,
   "metadata": {},
   "outputs": [],
   "source": [
    "import pandas as pd\n",
    "pd.options.mode.chained_assignment = None"
   ]
  },
  {
   "cell_type": "code",
   "execution_count": 4,
   "metadata": {},
   "outputs": [],
   "source": [
    "most_popular_websites = list(pd.read_csv('../Data/top-1m.csv',header=None).loc[:,1].values)\n",
    "websites_with_www = ['www.' + website for website in most_popular_websites]\n",
    "most_popular_websites.extend(websites_with_www)"
   ]
  },
  {
   "cell_type": "code",
   "execution_count": 5,
   "metadata": {},
   "outputs": [],
   "source": [
    "drug_websites = pd.read_csv('../Data/unique_displayLink.csv', index_col=['displayLink'])"
   ]
  },
  {
   "cell_type": "code",
   "execution_count": 6,
   "metadata": {},
   "outputs": [],
   "source": [
    "drug_websites_filtered = drug_websites[~drug_websites.index.isin(most_popular_websites)]"
   ]
  },
  {
   "cell_type": "code",
   "execution_count": 7,
   "metadata": {},
   "outputs": [],
   "source": [
    "drug_websites_filtered['args_split'] = drug_websites_filtered.args.str.split('+')\n",
    "args = drug_websites_filtered['args_split'].apply(pd.Series)\n",
    "drug_websites_filtered['first'] = args[0]\n",
    "drug_websites_filtered['drug'] = args[1]\n",
    "drug_websites_filtered = drug_websites_filtered.drop(['args','args_split'],axis=1)\n",
    "drug_websites_filtered['label'] = 'NaN'"
   ]
  },
  {
   "cell_type": "code",
   "execution_count": 8,
   "metadata": {},
   "outputs": [
    {
     "data": {
      "text/html": [
       "<div>\n",
       "<style scoped>\n",
       "    .dataframe tbody tr th:only-of-type {\n",
       "        vertical-align: middle;\n",
       "    }\n",
       "\n",
       "    .dataframe tbody tr th {\n",
       "        vertical-align: top;\n",
       "    }\n",
       "\n",
       "    .dataframe thead th {\n",
       "        text-align: right;\n",
       "    }\n",
       "</style>\n",
       "<table border=\"1\" class=\"dataframe\">\n",
       "  <thead>\n",
       "    <tr style=\"text-align: right;\">\n",
       "      <th></th>\n",
       "      <th>snippet</th>\n",
       "      <th>count</th>\n",
       "      <th>first</th>\n",
       "      <th>drug</th>\n",
       "      <th>label</th>\n",
       "    </tr>\n",
       "    <tr>\n",
       "      <th>displayLink</th>\n",
       "      <th></th>\n",
       "      <th></th>\n",
       "      <th></th>\n",
       "      <th></th>\n",
       "      <th></th>\n",
       "    </tr>\n",
       "  </thead>\n",
       "  <tbody>\n",
       "    <tr>\n",
       "      <th>drugs-center.biz</th>\n",
       "      <td>Buy drugs online from Drugs-Center, the bigges...</td>\n",
       "      <td>6316</td>\n",
       "      <td>purchase</td>\n",
       "      <td>cocaine</td>\n",
       "      <td>NaN</td>\n",
       "    </tr>\n",
       "    <tr>\n",
       "      <th>prettycheaphighs.com</th>\n",
       "      <td>Purchase Molly XTC Pills online | Purchase Mol...</td>\n",
       "      <td>3018</td>\n",
       "      <td>purchase</td>\n",
       "      <td>molly</td>\n",
       "      <td>NaN</td>\n",
       "    </tr>\n",
       "    <tr>\n",
       "      <th>dopepartypills.com</th>\n",
       "      <td>buy ecstasy drugs online buy molly online buy ...</td>\n",
       "      <td>2964</td>\n",
       "      <td>swiss</td>\n",
       "      <td>mdma</td>\n",
       "      <td>NaN</td>\n",
       "    </tr>\n",
       "    <tr>\n",
       "      <th>goldmedications.com</th>\n",
       "      <td>Where to buy Crystal Meth online at lower pric...</td>\n",
       "      <td>2613</td>\n",
       "      <td>purchase</td>\n",
       "      <td>meth</td>\n",
       "      <td>NaN</td>\n",
       "    </tr>\n",
       "    <tr>\n",
       "      <th>omegaxresearchchem.com</th>\n",
       "      <td>Buy Molly MDMA Pills (Pure MDMA) – Omegax rese...</td>\n",
       "      <td>2486</td>\n",
       "      <td>purchase</td>\n",
       "      <td>molly</td>\n",
       "      <td>NaN</td>\n",
       "    </tr>\n",
       "  </tbody>\n",
       "</table>\n",
       "</div>"
      ],
      "text/plain": [
       "                                                                  snippet  \\\n",
       "displayLink                                                                 \n",
       "drugs-center.biz        Buy drugs online from Drugs-Center, the bigges...   \n",
       "prettycheaphighs.com    Purchase Molly XTC Pills online | Purchase Mol...   \n",
       "dopepartypills.com      buy ecstasy drugs online buy molly online buy ...   \n",
       "goldmedications.com     Where to buy Crystal Meth online at lower pric...   \n",
       "omegaxresearchchem.com  Buy Molly MDMA Pills (Pure MDMA) – Omegax rese...   \n",
       "\n",
       "                        count     first     drug label  \n",
       "displayLink                                             \n",
       "drugs-center.biz         6316  purchase  cocaine   NaN  \n",
       "prettycheaphighs.com     3018  purchase    molly   NaN  \n",
       "dopepartypills.com       2964     swiss     mdma   NaN  \n",
       "goldmedications.com      2613  purchase     meth   NaN  \n",
       "omegaxresearchchem.com   2486  purchase    molly   NaN  "
      ]
     },
     "execution_count": 8,
     "metadata": {},
     "output_type": "execute_result"
    }
   ],
   "source": [
    "drug_websites_filtered.head()"
   ]
  },
  {
   "cell_type": "code",
   "execution_count": 9,
   "metadata": {},
   "outputs": [],
   "source": [
    "drug_websites_filtered.to_csv('../Data/drug_websites_filtered2.csv')"
   ]
  },
  {
   "cell_type": "code",
   "execution_count": null,
   "metadata": {},
   "outputs": [],
   "source": []
  }
 ],
 "metadata": {
  "kernelspec": {
   "display_name": "Python 3",
   "language": "python",
   "name": "python3"
  },
  "language_info": {
   "codemirror_mode": {
    "name": "ipython",
    "version": 3
   },
   "file_extension": ".py",
   "mimetype": "text/x-python",
   "name": "python",
   "nbconvert_exporter": "python",
   "pygments_lexer": "ipython3",
   "version": "3.7.2"
  }
 },
 "nbformat": 4,
 "nbformat_minor": 2
}
