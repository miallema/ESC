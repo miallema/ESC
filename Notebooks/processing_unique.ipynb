{
 "cells": [
  {
   "cell_type": "code",
   "execution_count": 1,
   "metadata": {},
   "outputs": [],
   "source": [
    "import pandas as pd"
   ]
  },
  {
   "cell_type": "code",
   "execution_count": 2,
   "metadata": {},
   "outputs": [],
   "source": [
    "f = pd.read_csv('../Data/data_processed.csv')"
   ]
  },
  {
   "cell_type": "code",
   "execution_count": 3,
   "metadata": {},
   "outputs": [],
   "source": [
    "z = f.copy()\n",
    "z['count'] = 1\n",
    "z['count'] = z['count'].groupby(z['displayLink']).transform('sum')\n",
    "z.drop_duplicates(subset=['displayLink'], keep='last', inplace=True)\n",
    "z.sort_values(by='count', ascending=False, inplace=True)\n",
    "z.index.names = ['index']\n",
    "z = z[['displayLink', 'snippet','args', 'count']]\n",
    "z.index = z.displayLink\n",
    "z = z.drop(columns=['displayLink'])\n",
    "z['args'] = z['args']"
   ]
  },
  {
   "cell_type": "code",
   "execution_count": 4,
   "metadata": {},
   "outputs": [],
   "source": [
    "z.to_csv('../Data/unique_displayLink.csv')"
   ]
  },
  {
   "cell_type": "code",
   "execution_count": 6,
   "metadata": {},
   "outputs": [],
   "source": [
    "g = pd.read_csv('../Data/unique_displayLink.csv', index_col=['displayLink'])"
   ]
  }
 ],
 "metadata": {
  "kernelspec": {
   "display_name": "Python 3",
   "language": "python",
   "name": "python3"
  },
  "language_info": {
   "codemirror_mode": {
    "name": "ipython",
    "version": 3
   },
   "file_extension": ".py",
   "mimetype": "text/x-python",
   "name": "python",
   "nbconvert_exporter": "python",
   "pygments_lexer": "ipython3",
   "version": "3.7.2"
  }
 },
 "nbformat": 4,
 "nbformat_minor": 2
}
