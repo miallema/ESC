{
 "cells": [
  {
   "cell_type": "code",
   "execution_count": 1,
   "metadata": {},
   "outputs": [],
   "source": [
    "from helpers_processing import json_to_csv, unique_display_link, remove_most_popular, expand_labels, unique_display_link_prediction\n",
    "from helpers_classification import data_preparation, training, compute_nb_errors, predict\n",
    "import pandas as pd\n",
    "import matplotlib.pyplot as plt\n",
    "import seaborn as sns\n",
    "import numpy as np\n",
    "from torch import nn, argmax\n",
    "import torch\n",
    "sns.set_style(\"white\")"
   ]
  },
  {
   "cell_type": "markdown",
   "metadata": {},
   "source": [
    "## Processing Pipeline"
   ]
  },
  {
   "cell_type": "code",
   "execution_count": 2,
   "metadata": {},
   "outputs": [],
   "source": [
    "json_to_csv('../data/google.json', '../data/data_processed.csv')\n",
    "\n",
    "unique_display_link('../data/data_processed.csv', '../data/unique_displayLink.csv')\n",
    "\n",
    "remove_most_popular('../data/unique_displayLink.csv', '../data/drug_websites_filtered.csv','../data/top-1m.csv')\n",
    "\n",
    "expand_labels('../data/labelled_unique.csv', '../data/data_processed.csv', '../data/labelled_expanded.csv')"
   ]
  },
  {
   "cell_type": "markdown",
   "metadata": {},
   "source": [
    "## Exploration"
   ]
  },
  {
   "cell_type": "code",
   "execution_count": 3,
   "metadata": {},
   "outputs": [],
   "source": [
    "df = pd.read_csv('../data/labelled_expanded.csv', index_col='link')"
   ]
  },
  {
   "cell_type": "code",
   "execution_count": 4,
   "metadata": {},
   "outputs": [
    {
     "name": "stdout",
     "output_type": "stream",
     "text": [
      "There are a total of 510192 links listed of which 122968 are labelled. 43548 labelled are not webshops, 37090\n",
      "are webshops and 42330 are dead links.\n"
     ]
    }
   ],
   "source": [
    "print(\"\"\"There are a total of {} links listed of which {} are labelled. {} labelled are not webshops, {}\n",
    "are webshops and {} are dead links.\"\"\".format(len(df), \n",
    "                                                           len(df[~df['label'].isnull()]),\\\n",
    "                                                           len(df[df['label'] == 0.0]),\\\n",
    "                                                           len(df[df['label'] == 1.0]),\\\n",
    "                                                           len(df[df['label'] == 2.0])))"
   ]
  },
  {
   "cell_type": "code",
   "execution_count": 5,
   "metadata": {},
   "outputs": [
    {
     "data": {
      "image/png": "[encoded data removed]",
      "text/plain": [
       "<Figure size 720x576 with 1 Axes>"
      ]
     },
     "metadata": {
      "needs_background": "light"
     },
     "output_type": "display_data"
    }
   ],
   "source": [
    "df.groupby(['drug','label']).size().unstack().plot(kind='bar', stacked=True, figsize=(10,8));\n",
    "plt.savefig('../figures/drug_distribution.eps',format='eps')"
   ]
  },
  {
   "cell_type": "markdown",
   "metadata": {},
   "source": [
    "From the above plot we can see that for the words 'crack', 'crystal' and 'molly there are many false positives and little true positives."
   ]
  },
  {
   "cell_type": "code",
   "execution_count": 6,
   "metadata": {},
   "outputs": [
    {
     "data": {
      "image/png": "[encoded data removed]",
      "text/plain": [
       "<Figure size 720x576 with 1 Axes>"
      ]
     },
     "metadata": {
      "needs_background": "light"
     },
     "output_type": "display_data"
    }
   ],
   "source": [
    "df.groupby(['first','label']).size().unstack().plot(kind='bar', stacked=True, figsize=(10,8));\n",
    "plt.savefig('../figures/first_distribution.eps',format='eps')"
   ]
  },
  {
   "cell_type": "markdown",
   "metadata": {},
   "source": [
    "We can see that the word 'swiss' has almost no true positives."
   ]
  },
  {
   "cell_type": "markdown",
   "metadata": {},
   "source": [
    "## Classification Pipeline"
   ]
  },
  {
   "cell_type": "code",
   "execution_count": 7,
   "metadata": {},
   "outputs": [],
   "source": [
    "x_train,y_train,x_test,y_test,unlabelled_data,unlabelled = data_preparation('../data/labelled_expanded.csv')"
   ]
  },
  {
   "cell_type": "code",
   "execution_count": 8,
   "metadata": {},
   "outputs": [],
   "source": [
    "model = nn.Sequential(\n",
    "        nn.Linear(10000, 32),\n",
    "        nn.ReLU(),\n",
    "        nn.Dropout(0.2),\n",
    "        nn.Linear(32, 64),\n",
    "        nn.ReLU(),\n",
    "        nn.Dropout(0.2),\n",
    "        nn.Linear(64, 32),\n",
    "        nn.Dropout(0.2),\n",
    "        nn.ReLU(),\n",
    "        nn.Linear(32,2))"
   ]
  },
  {
   "cell_type": "code",
   "execution_count": 9,
   "metadata": {},
   "outputs": [
    {
     "name": "stdout",
     "output_type": "stream",
     "text": [
      "Epoch: 0\n",
      "Epoch: 10\n",
      "Epoch: 20\n",
      "Epoch: 30\n",
      "Epoch: 40\n",
      "Epoch: 50\n",
      "Epoch: 60\n",
      "Epoch: 70\n",
      "Epoch: 80\n",
      "Epoch: 90\n"
     ]
    }
   ],
   "source": [
    "training(model, x_train, y_train)"
   ]
  },
  {
   "cell_type": "code",
   "execution_count": 10,
   "metadata": {},
   "outputs": [
    {
     "name": "stdout",
     "output_type": "stream",
     "text": [
      "0.0\n",
      "0.0625\n"
     ]
    }
   ],
   "source": [
    "print(compute_nb_errors(model, x_train, y_train) / x_train.size(0) * 100)\n",
    "print(compute_nb_errors(model, x_test, y_test) / x_test.size(0) * 100)"
   ]
  },
  {
   "cell_type": "code",
   "execution_count": 11,
   "metadata": {},
   "outputs": [],
   "source": [
    "torch.save(model, '../models/mlp.pt')"
   ]
  },
  {
   "cell_type": "code",
   "execution_count": 12,
   "metadata": {},
   "outputs": [],
   "source": [
    "model = torch.load('../models/mlp.pt')"
   ]
  },
  {
   "cell_type": "code",
   "execution_count": 13,
   "metadata": {},
   "outputs": [],
   "source": [
    "unique_display_link_prediction('../data/labelled_prediction_expanded.csv',\n",
    "                               '../data/labelled_prediction_unique.csv')"
   ]
  },
  {
   "cell_type": "code",
   "execution_count": 14,
   "metadata": {},
   "outputs": [],
   "source": [
    "df = pd.read_csv('../data/labelled_prediction_unique.csv', index_col='displayLink')"
   ]
  },
  {
   "cell_type": "markdown",
   "metadata": {},
   "source": [
    "## Exploring the predictions"
   ]
  },
  {
   "cell_type": "code",
   "execution_count": 15,
   "metadata": {},
   "outputs": [
    {
     "data": {
      "text/html": [
       "<div>\n",
       "<style scoped>\n",
       "    .dataframe tbody tr th:only-of-type {\n",
       "        vertical-align: middle;\n",
       "    }\n",
       "\n",
       "    .dataframe tbody tr th {\n",
       "        vertical-align: top;\n",
       "    }\n",
       "\n",
       "    .dataframe thead th {\n",
       "        text-align: right;\n",
       "    }\n",
       "</style>\n",
       "<table border=\"1\" class=\"dataframe\">\n",
       "  <thead>\n",
       "    <tr style=\"text-align: right;\">\n",
       "      <th></th>\n",
       "      <th>text</th>\n",
       "      <th>first</th>\n",
       "      <th>drug</th>\n",
       "      <th>count</th>\n",
       "      <th>label</th>\n",
       "      <th>ratio</th>\n",
       "      <th>label_count</th>\n",
       "    </tr>\n",
       "    <tr>\n",
       "      <th>displayLink</th>\n",
       "      <th></th>\n",
       "      <th></th>\n",
       "      <th></th>\n",
       "      <th></th>\n",
       "      <th></th>\n",
       "      <th></th>\n",
       "      <th></th>\n",
       "    </tr>\n",
       "  </thead>\n",
       "  <tbody>\n",
       "    <tr>\n",
       "      <th>methamphetamina.blogspot.com</th>\n",
       "      <td>How to purchase amphetamine online How to purc...</td>\n",
       "      <td>purchase</td>\n",
       "      <td>meth</td>\n",
       "      <td>558</td>\n",
       "      <td>1</td>\n",
       "      <td>1.0</td>\n",
       "      <td>558</td>\n",
       "    </tr>\n",
       "    <tr>\n",
       "      <th>australianice.wordpress.com</th>\n",
       "      <td>100% pure research chems lab – Buy %100 pure c...</td>\n",
       "      <td>buy</td>\n",
       "      <td>meth</td>\n",
       "      <td>162</td>\n",
       "      <td>1</td>\n",
       "      <td>1.0</td>\n",
       "      <td>162</td>\n",
       "    </tr>\n",
       "    <tr>\n",
       "      <th>eliminate-mdma-ecstasy-for-sale.blogspot.com</th>\n",
       "      <td>Cheap MDMA and Ecstasy Party Pills For Sale On...</td>\n",
       "      <td>purchase</td>\n",
       "      <td>molly</td>\n",
       "      <td>162</td>\n",
       "      <td>1</td>\n",
       "      <td>1.0</td>\n",
       "      <td>162</td>\n",
       "    </tr>\n",
       "    <tr>\n",
       "      <th>buymyweedonline.ca</th>\n",
       "      <td>Gods Green Crack Honey Comb Budder (AAAAA) | B...</td>\n",
       "      <td>buy</td>\n",
       "      <td>crack</td>\n",
       "      <td>149</td>\n",
       "      <td>1</td>\n",
       "      <td>1.0</td>\n",
       "      <td>149</td>\n",
       "    </tr>\n",
       "    <tr>\n",
       "      <th>www.usonlineads.com</th>\n",
       "      <td>Buy Ecstasy Online - Everything Else - Delawar...</td>\n",
       "      <td>cheap</td>\n",
       "      <td>ecstasy</td>\n",
       "      <td>119</td>\n",
       "      <td>1</td>\n",
       "      <td>1.0</td>\n",
       "      <td>119</td>\n",
       "    </tr>\n",
       "    <tr>\n",
       "      <th>www.planetorganic.com</th>\n",
       "      <td>Add some Raw Ecstasy activated nuts and butter...</td>\n",
       "      <td>buy</td>\n",
       "      <td>ecstasy</td>\n",
       "      <td>109</td>\n",
       "      <td>1</td>\n",
       "      <td>1.0</td>\n",
       "      <td>109</td>\n",
       "    </tr>\n",
       "    <tr>\n",
       "      <th>buy-cheap-mdma-ecstasy-online.tumblr.com</th>\n",
       "      <td>Cheap MDMA and Ecstasy Pills For Sale Online C...</td>\n",
       "      <td>cheap</td>\n",
       "      <td>mdma</td>\n",
       "      <td>105</td>\n",
       "      <td>1</td>\n",
       "      <td>1.0</td>\n",
       "      <td>105</td>\n",
       "    </tr>\n",
       "    <tr>\n",
       "      <th>purecrystalmethforsaleonline.blogspot.com</th>\n",
       "      <td>PURE CRYSTAL METHAMPHETAMINE, ICE METH SHARD F...</td>\n",
       "      <td>purchase</td>\n",
       "      <td>meth</td>\n",
       "      <td>104</td>\n",
       "      <td>1</td>\n",
       "      <td>1.0</td>\n",
       "      <td>104</td>\n",
       "    </tr>\n",
       "    <tr>\n",
       "      <th>methamphetaminecrystal.blogspot.com</th>\n",
       "      <td>where can i buy crystal meth in Australia wher...</td>\n",
       "      <td>purchase</td>\n",
       "      <td>meth</td>\n",
       "      <td>102</td>\n",
       "      <td>1</td>\n",
       "      <td>1.0</td>\n",
       "      <td>102</td>\n",
       "    </tr>\n",
       "    <tr>\n",
       "      <th>nembutalman.blogspot.com</th>\n",
       "      <td>buy cheap nembutal, dexedrine, amphetamine, me...</td>\n",
       "      <td>cheap</td>\n",
       "      <td>meth</td>\n",
       "      <td>101</td>\n",
       "      <td>1</td>\n",
       "      <td>1.0</td>\n",
       "      <td>101</td>\n",
       "    </tr>\n",
       "  </tbody>\n",
       "</table>\n",
       "</div>"
      ],
      "text/plain": [
       "                                                                                           text  \\\n",
       "displayLink                                                                                       \n",
       "methamphetamina.blogspot.com                  How to purchase amphetamine online How to purc...   \n",
       "australianice.wordpress.com                   100% pure research chems lab – Buy %100 pure c...   \n",
       "eliminate-mdma-ecstasy-for-sale.blogspot.com  Cheap MDMA and Ecstasy Party Pills For Sale On...   \n",
       "buymyweedonline.ca                            Gods Green Crack Honey Comb Budder (AAAAA) | B...   \n",
       "www.usonlineads.com                           Buy Ecstasy Online - Everything Else - Delawar...   \n",
       "www.planetorganic.com                         Add some Raw Ecstasy activated nuts and butter...   \n",
       "buy-cheap-mdma-ecstasy-online.tumblr.com      Cheap MDMA and Ecstasy Pills For Sale Online C...   \n",
       "purecrystalmethforsaleonline.blogspot.com     PURE CRYSTAL METHAMPHETAMINE, ICE METH SHARD F...   \n",
       "methamphetaminecrystal.blogspot.com           where can i buy crystal meth in Australia wher...   \n",
       "nembutalman.blogspot.com                      buy cheap nembutal, dexedrine, amphetamine, me...   \n",
       "\n",
       "                                                 first     drug  count  label  \\\n",
       "displayLink                                                                     \n",
       "methamphetamina.blogspot.com                  purchase     meth    558      1   \n",
       "australianice.wordpress.com                        buy     meth    162      1   \n",
       "eliminate-mdma-ecstasy-for-sale.blogspot.com  purchase    molly    162      1   \n",
       "buymyweedonline.ca                                 buy    crack    149      1   \n",
       "www.usonlineads.com                              cheap  ecstasy    119      1   \n",
       "www.planetorganic.com                              buy  ecstasy    109      1   \n",
       "buy-cheap-mdma-ecstasy-online.tumblr.com         cheap     mdma    105      1   \n",
       "purecrystalmethforsaleonline.blogspot.com     purchase     meth    104      1   \n",
       "methamphetaminecrystal.blogspot.com           purchase     meth    102      1   \n",
       "nembutalman.blogspot.com                         cheap     meth    101      1   \n",
       "\n",
       "                                              ratio  label_count  \n",
       "displayLink                                                       \n",
       "methamphetamina.blogspot.com                    1.0          558  \n",
       "australianice.wordpress.com                     1.0          162  \n",
       "eliminate-mdma-ecstasy-for-sale.blogspot.com    1.0          162  \n",
       "buymyweedonline.ca                              1.0          149  \n",
       "www.usonlineads.com                             1.0          119  \n",
       "www.planetorganic.com                           1.0          109  \n",
       "buy-cheap-mdma-ecstasy-online.tumblr.com        1.0          105  \n",
       "purecrystalmethforsaleonline.blogspot.com       1.0          104  \n",
       "methamphetaminecrystal.blogspot.com             1.0          102  \n",
       "nembutalman.blogspot.com                        1.0          101  "
      ]
     },
     "execution_count": 15,
     "metadata": {},
     "output_type": "execute_result"
    }
   ],
   "source": [
    "df[df['label']==1].head(10)"
   ]
  },
  {
   "cell_type": "code",
   "execution_count": 16,
   "metadata": {},
   "outputs": [
    {
     "data": {
      "text/html": [
       "<div>\n",
       "<style scoped>\n",
       "    .dataframe tbody tr th:only-of-type {\n",
       "        vertical-align: middle;\n",
       "    }\n",
       "\n",
       "    .dataframe tbody tr th {\n",
       "        vertical-align: top;\n",
       "    }\n",
       "\n",
       "    .dataframe thead th {\n",
       "        text-align: right;\n",
       "    }\n",
       "</style>\n",
       "<table border=\"1\" class=\"dataframe\">\n",
       "  <thead>\n",
       "    <tr style=\"text-align: right;\">\n",
       "      <th></th>\n",
       "      <th>text</th>\n",
       "      <th>first</th>\n",
       "      <th>drug</th>\n",
       "      <th>count</th>\n",
       "      <th>label</th>\n",
       "      <th>ratio</th>\n",
       "      <th>label_count</th>\n",
       "    </tr>\n",
       "    <tr>\n",
       "      <th>displayLink</th>\n",
       "      <th></th>\n",
       "      <th></th>\n",
       "      <th></th>\n",
       "      <th></th>\n",
       "      <th></th>\n",
       "      <th></th>\n",
       "      <th></th>\n",
       "    </tr>\n",
       "  </thead>\n",
       "  <tbody>\n",
       "    <tr>\n",
       "      <th>ch.bucherer.com</th>\n",
       "      <td>Discover sophisticated watches and exquisite j...</td>\n",
       "      <td>swiss</td>\n",
       "      <td>molly</td>\n",
       "      <td>2</td>\n",
       "      <td>0</td>\n",
       "      <td>0.0</td>\n",
       "      <td>0</td>\n",
       "    </tr>\n",
       "    <tr>\n",
       "      <th>new.abb.com</th>\n",
       "      <td>ABB is a pioneering technology leader that wor...</td>\n",
       "      <td>swiss</td>\n",
       "      <td>molly</td>\n",
       "      <td>2</td>\n",
       "      <td>0</td>\n",
       "      <td>0.0</td>\n",
       "      <td>0</td>\n",
       "    </tr>\n",
       "    <tr>\n",
       "      <th>www.herworld.com</th>\n",
       "      <td>Sep 1, 2016 ... From classic vanilla (Flor Pat...</td>\n",
       "      <td>swiss</td>\n",
       "      <td>molly</td>\n",
       "      <td>42</td>\n",
       "      <td>0</td>\n",
       "      <td>0.0</td>\n",
       "      <td>0</td>\n",
       "    </tr>\n",
       "    <tr>\n",
       "      <th>www.moneysavingexpert.com</th>\n",
       "      <td>Mar 22, 2018 ... To give you a head start, we'...</td>\n",
       "      <td>swiss</td>\n",
       "      <td>molly</td>\n",
       "      <td>98</td>\n",
       "      <td>0</td>\n",
       "      <td>0.0</td>\n",
       "      <td>0</td>\n",
       "    </tr>\n",
       "    <tr>\n",
       "      <th>www.brunomagli.com</th>\n",
       "      <td>Shop current Bruno Magli styles &amp; find new sty...</td>\n",
       "      <td>swiss</td>\n",
       "      <td>molly</td>\n",
       "      <td>19</td>\n",
       "      <td>0</td>\n",
       "      <td>0.0</td>\n",
       "      <td>0</td>\n",
       "    </tr>\n",
       "    <tr>\n",
       "      <th>www.grundycountyherald.com</th>\n",
       "      <td>Sep 3, 2018 ... On August 29, 2018, Graham Mit...</td>\n",
       "      <td>swiss</td>\n",
       "      <td>molly</td>\n",
       "      <td>71</td>\n",
       "      <td>0</td>\n",
       "      <td>0.0</td>\n",
       "      <td>0</td>\n",
       "    </tr>\n",
       "    <tr>\n",
       "      <th>www.phmc.pa.gov</th>\n",
       "      <td>PHMC &gt; Archives &gt; Research Online &gt; Ships Pass...</td>\n",
       "      <td>swiss</td>\n",
       "      <td>molly</td>\n",
       "      <td>7</td>\n",
       "      <td>0</td>\n",
       "      <td>0.0</td>\n",
       "      <td>0</td>\n",
       "    </tr>\n",
       "    <tr>\n",
       "      <th>www.originalswissaromatics.com</th>\n",
       "      <td>Original Swiss Aromatics provides essential oi...</td>\n",
       "      <td>swiss</td>\n",
       "      <td>molly</td>\n",
       "      <td>13</td>\n",
       "      <td>0</td>\n",
       "      <td>0.0</td>\n",
       "      <td>0</td>\n",
       "    </tr>\n",
       "    <tr>\n",
       "      <th>www.swisssense.nl</th>\n",
       "      <td>De boxspring- en matrassencollectie bestaan ui...</td>\n",
       "      <td>swiss</td>\n",
       "      <td>molly</td>\n",
       "      <td>17</td>\n",
       "      <td>0</td>\n",
       "      <td>0.0</td>\n",
       "      <td>0</td>\n",
       "    </tr>\n",
       "    <tr>\n",
       "      <th>mediatheques.payscrecois.fr</th>\n",
       "      <td>Pour accéder de votre smartphone ou votre tabl...</td>\n",
       "      <td>swiss</td>\n",
       "      <td>molly</td>\n",
       "      <td>1</td>\n",
       "      <td>0</td>\n",
       "      <td>0.0</td>\n",
       "      <td>0</td>\n",
       "    </tr>\n",
       "  </tbody>\n",
       "</table>\n",
       "</div>"
      ],
      "text/plain": [
       "                                                                             text  \\\n",
       "displayLink                                                                         \n",
       "ch.bucherer.com                 Discover sophisticated watches and exquisite j...   \n",
       "new.abb.com                     ABB is a pioneering technology leader that wor...   \n",
       "www.herworld.com                Sep 1, 2016 ... From classic vanilla (Flor Pat...   \n",
       "www.moneysavingexpert.com       Mar 22, 2018 ... To give you a head start, we'...   \n",
       "www.brunomagli.com              Shop current Bruno Magli styles & find new sty...   \n",
       "www.grundycountyherald.com      Sep 3, 2018 ... On August 29, 2018, Graham Mit...   \n",
       "www.phmc.pa.gov                 PHMC > Archives > Research Online > Ships Pass...   \n",
       "www.originalswissaromatics.com  Original Swiss Aromatics provides essential oi...   \n",
       "www.swisssense.nl               De boxspring- en matrassencollectie bestaan ui...   \n",
       "mediatheques.payscrecois.fr     Pour accéder de votre smartphone ou votre tabl...   \n",
       "\n",
       "                                first   drug  count  label  ratio  label_count  \n",
       "displayLink                                                                     \n",
       "ch.bucherer.com                 swiss  molly      2      0    0.0            0  \n",
       "new.abb.com                     swiss  molly      2      0    0.0            0  \n",
       "www.herworld.com                swiss  molly     42      0    0.0            0  \n",
       "www.moneysavingexpert.com       swiss  molly     98      0    0.0            0  \n",
       "www.brunomagli.com              swiss  molly     19      0    0.0            0  \n",
       "www.grundycountyherald.com      swiss  molly     71      0    0.0            0  \n",
       "www.phmc.pa.gov                 swiss  molly      7      0    0.0            0  \n",
       "www.originalswissaromatics.com  swiss  molly     13      0    0.0            0  \n",
       "www.swisssense.nl               swiss  molly     17      0    0.0            0  \n",
       "mediatheques.payscrecois.fr     swiss  molly      1      0    0.0            0  "
      ]
     },
     "execution_count": 16,
     "metadata": {},
     "output_type": "execute_result"
    }
   ],
   "source": [
    "df[df['label']==0].tail(10)"
   ]
  },
  {
   "cell_type": "code",
   "execution_count": null,
   "metadata": {},
   "outputs": [],
   "source": []
  }
 ],
 "metadata": {
  "kernelspec": {
   "display_name": "Python 3",
   "language": "python",
   "name": "python3"
  },
  "language_info": {
   "codemirror_mode": {
    "name": "ipython",
    "version": 3
   },
   "file_extension": ".py",
   "mimetype": "text/x-python",
   "name": "python",
   "nbconvert_exporter": "python",
   "pygments_lexer": "ipython3",
   "version": "3.7.2"
  }
 },
 "nbformat": 4,
 "nbformat_minor": 2
}
